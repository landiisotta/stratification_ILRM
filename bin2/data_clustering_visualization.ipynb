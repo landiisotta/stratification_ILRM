{
 "cells": [
  {
   "cell_type": "markdown",
   "metadata": {},
   "source": [
    "# Clustering encoded vectors and baseline"
   ]
  },
  {
   "cell_type": "code",
   "execution_count": null,
   "metadata": {},
   "outputs": [],
   "source": [
    "import os\n",
    "import csv\n",
    "\n",
    "import random\n",
    "import numpy as np\n",
    "\n",
    "from sklearn.manifold.t_sne import TSNE\n",
    "from sklearn.metrics import silhouette_score\n",
    "from sklearn.cluster import AgglomerativeClustering\n",
    "from sklearn.preprocessing import StandardScaler\n",
    "from sklearn.feature_extraction.text import TfidfTransformer\n",
    "from sklearn.decomposition import PCA, TruncatedSVD\n",
    "from collections import OrderedDict\n",
    "\n",
    "import matplotlib\n",
    "import matplotlib.pyplot as plt\n",
    "import matplotlib.patches as mpatches\n",
    "%matplotlib inline"
   ]
  },
  {
   "cell_type": "code",
   "execution_count": null,
   "metadata": {},
   "outputs": [],
   "source": [
    "f = open('../outdir.txt', 'r')\n",
    "outdir = f.read().rstrip('\\n')\n",
    "f = open('../experiment_folder.txt', 'r')\n",
    "experiment_folder = f.read().rstrip('\\n')\n",
    "\n",
    "##Read encoded vectors file and ordered medical record numbers\n",
    "with open(experiment_folder + '/encoded_vect.csv') as f:\n",
    "    rd = csv.reader(f)\n",
    "    encoded_vect = []\n",
    "    for r in rd:\n",
    "        encoded_vect.append(list(map(float, r)))\n",
    "        \n",
    "with open(experiment_folder + '/mrns.csv') as f:\n",
    "    rd = csv.reader(f)\n",
    "    mrns = []\n",
    "    for r in rd:\n",
    "        mrns.append(r[0])\n",
    "        \n",
    "# ##Read encoded vectors file and ordered medical record numbers\n",
    "with open(experiment_folder + '/LSTMencoded_vect.csv') as f:\n",
    "    rd = csv.reader(f)\n",
    "    lstm_encoded_vect = []\n",
    "    for r in rd:\n",
    "        lstm_encoded_vect.append(list(map(float, r)))\n",
    "        \n",
    "with open(experiment_folder + '/LSTMmrns.csv') as f:\n",
    "    rd = csv.reader(f)\n",
    "    lstm_mrns = []\n",
    "    for r in rd:\n",
    "        lstm_mrns.append(r[0])\n",
    "\n",
    "with open(outdir + '/cohort-new_ehr.csv') as f:\n",
    "    rd = csv.reader(f)\n",
    "    raw_ehr = {}\n",
    "    for r in rd:\n",
    "        raw_ehr.setdefault(r[0], list()).extend(list(map(int, r[1::])))\n",
    "\n",
    "##padded raw data from cohort-new_ehr.csv\n",
    "raw_data = []\n",
    "max_len = 0\n",
    "for _, e in raw_ehr.items():\n",
    "    raw_data.append(e)\n",
    "    if len(e) >= max_len:\n",
    "        max_len = len(e)\n",
    "for idx, s in enumerate(raw_data):\n",
    "    raw_data[idx] = s + [0]*(max_len-len(s))\n",
    "    \n",
    "##get list of first diagnosed diseases associated with mrns\n",
    "with open(outdir + '/cohort-mrn_diseases.csv') as f:\n",
    "    rd = csv.reader(f)\n",
    "    mrn_disease = {}\n",
    "    for r in rd:\n",
    "        mrn_disease[r[0]] = r[1::]\n",
    "        \n",
    "mrn_encoded_disease = []\n",
    "for m in mrns:\n",
    "    mrn_encoded_disease.append(mrn_disease[m][0])\n",
    "\n",
    "lstm_mrn_encoded_disease = []\n",
    "for m in lstm_mrns:\n",
    "    lstm_mrn_encoded_disease.append(mrn_disease[m][0])\n",
    "    \n",
    "disease_dict = {}\n",
    "idx = 0\n",
    "for d in set(mrn_encoded_disease):\n",
    "    disease_dict[d] = idx\n",
    "    idx += 1\n",
    "\n",
    "mrn_raw_disease = []\n",
    "for m in raw_ehr:\n",
    "    mrn_raw_disease.append(mrn_disease[m][0])\n",
    "\n",
    "with open(outdir + '/cohort-new_vocab.csv') as f:\n",
    "    rd = csv.reader(f)\n",
    "    next(rd)\n",
    "    new_vocab = {}\n",
    "    for r in rd:\n",
    "        new_vocab[r[1]] = r[0]\n",
    "        \n",
    "len_vocab = len(new_vocab)"
   ]
  },
  {
   "cell_type": "markdown",
   "metadata": {},
   "source": [
    ">`svd_tfidf()`: returns the SVD matrix of the TFIDF matrix of the raw ehr data;\n",
    "\n",
    ">`hclust_ehr()`: performs the hierarchical clustering on input data maximizing the Silhouette Index, it returns the number of clusters and the labels;\n",
    "\n",
    ">`FreqDict()`: returns the frequencies of the medical terms in ehrs;\n",
    "\n",
    ">`freq_term()`: returns the cluster and the first n most frequent terms in the cluster, the relative frequency w.r.t the whole dataset is given;\n",
    "\n",
    ">`single_plot()`: returns a plot of all the clusters;\n",
    "\n",
    ">`nonoveralp_plot()`: returns N different plots with N the number of clusters."
   ]
  },
  {
   "cell_type": "code",
   "execution_count": null,
   "metadata": {},
   "outputs": [],
   "source": [
    "##Hierarchical clustering function\n",
    "def hclust_ehr(data, min_cl, max_cl, metric):\n",
    "    best_silh = 0.0\n",
    "    for n in range(min_cl,max_cl,1):\n",
    "        hclust = AgglomerativeClustering(n_clusters=n, \n",
    "                                         linkage='complete', \n",
    "                                         affinity=metric)\n",
    "        tmp_label = hclust.fit_predict(data).tolist()\n",
    "        tmp_silh = silhouette_score(data, tmp_label)\n",
    "        if tmp_silh > best_silh:\n",
    "            best_silh = tmp_silh\n",
    "            n_clust = n\n",
    "            label = tmp_label\n",
    "    try:\n",
    "        print(\"Number of clusters found:{0}, Silhouette score:{1:.3f}\".format(n_clust, best_silh))\n",
    "    except UnboundLocalError:\n",
    "        hclust = AgglomerativeClustering(n_clusters=min_cl,\n",
    "                                         linkage='complete',\n",
    "                                         affinity=metric)\n",
    "        n_clust = min_cl\n",
    "        label = hclust.fit_predict(data).tolist()\n",
    "        print(\"Number of clusters found:{0}, Silhouette score:{1:.3f}\".format(n_clust, best_silh))\n",
    "    return n_clust, label\n",
    "\n",
    "def svd_tfidf(data, len_vocab):\n",
    "    \n",
    "    count_mat = np.zeros((len(data), len_vocab))\n",
    "    \n",
    "    for idx, token_list in enumerate(data):\n",
    "        for t in token_list:\n",
    "            if t != 0: ##we start the vocabulary from 1\n",
    "                count_mat[idx, t-1] += 1\n",
    "                \n",
    "    tfidf = TfidfTransformer()\n",
    "    tfidf_mat = tfidf.fit_transform(count_mat)\n",
    "    \n",
    "    svd = TruncatedSVD(n_components=32)\n",
    "    svd_mat = svd.fit_transform(tfidf_mat)\n",
    "    \n",
    "    return svd_mat\n",
    "\n",
    "def FreqDict(tokens):\n",
    "    freq_dict = {}\n",
    "    for seq in tokens:\n",
    "        for s in seq:\n",
    "            if s not in freq_dict:\n",
    "                freq_dict[s] = 1\n",
    "            else:\n",
    "                freq_dict[s] += 1\n",
    "    return freq_dict\n",
    "\n",
    "def freq_term(data, n_clusters, pred_class, n, term_list):\n",
    "    encoded_groups = OrderedDict()\n",
    "    encoded_seq = OrderedDict()\n",
    "    for i in range(n_clusters):\n",
    "        encoded_groups[i] = []\n",
    "        encoded_seq[i] = []\n",
    "        for j in range(len(pred_class)):\n",
    "            if pred_class[j] == i:\n",
    "                encoded_groups[i] += [mrns[j]]\n",
    "                encoded_seq[i].append([rd for rd in data[j] if rd!=0 and (str.split(new_vocab[str(rd)], \"::\")[0] in term_list)])\n",
    "                \n",
    "    for cl in range(n_clusters):\n",
    "        print(\"Cluster {0} numerosity: {1}\".format(cl, len(encoded_groups[cl])))\n",
    "        encoded_count = FreqDict(encoded_seq[cl])\n",
    "        for l in range(n):\n",
    "            try:\n",
    "                MFMT = max(encoded_count, key=(lambda key: encoded_count[key]))\n",
    "                num_MFMT = 0\n",
    "                for el in data:\n",
    "                    for t in el:\n",
    "                        if t == MFMT:\n",
    "                            num_MFMT += 1\n",
    "    \n",
    "                print(\"Cluster {0} -- Relative numerosity of first most frequent term:{1} = {2:.2f} (count {3})\".format(cl,new_vocab[str(MFMT)], \n",
    "                                                                                                encoded_count[MFMT]/num_MFMT, encoded_count[MFMT]))\n",
    "                encoded_count.pop(MFMT)\n",
    "            except ValueError:\n",
    "                pass\n",
    "        print(\"\\n\")\n",
    "        \n",
    "def single_plot(data, mrn_disease, colors):\n",
    "    plt.figure(figsize=(20,10))\n",
    "    for cl in set(mrn_disease):\n",
    "        x = [d[0] for j, d in enumerate(data) if mrn_disease[j]==cl]\n",
    "        y = [d[1] for j, d in enumerate(data) if mrn_disease[j]==cl]\n",
    "        cols = [c for j, c in enumerate(colors) if mrn_disease[j]==cl]\n",
    "        plt.xticks([])\n",
    "        plt.yticks([])\n",
    "        plt.scatter(x, y, c=cols, label=cl)\n",
    "    plt.legend()\n",
    "    \n",
    "def nonoverlap_plot(data, mrn_disease, colors):\n",
    "    fig, ax = plt.subplots(len(set(mrn_disease)), 1, figsize=(20, 10*len(set(mrn_disease))))\n",
    "    for idx, cl in enumerate(set(mrn_disease)):\n",
    "        x = [d[0] for j, d in enumerate(data) if mrn_disease[j]==cl]\n",
    "        y = [d[1] for j, d in enumerate(data) if mrn_disease[j]==cl]\n",
    "        cols = [c for j, c in enumerate(colors) if mrn_disease[j]==cl]\n",
    "        ax[idx].set_xticks([])\n",
    "        ax[idx].set_yticks([])\n",
    "        ax[idx].scatter(x, y, c=cols, label=cl)\n",
    "        ax[idx].legend()"
   ]
  },
  {
   "cell_type": "code",
   "execution_count": null,
   "metadata": {},
   "outputs": [],
   "source": [
    "##initialize T-SNE\n",
    "tsne = TSNE(n_components=2, n_iter=5000, perplexity=50, random_state=42)\n",
    "\n",
    "##colors\n",
    "col_dict = matplotlib.colors.CSS4_COLORS\n",
    "c_out = ['mintcream', 'cornsilk', 'lavenderblush', 'aliceblue', 'antiquewhite', 'aqua', 'aquamarine', 'azure', 'beige', 'powderblue', 'floralwhite', 'ghostwhite',\n",
    " 'lightcoral', 'lightcyan', 'lightgoldenrodyellow', 'lightgray', 'lightgreen', 'lightgrey', 'lightpink', 'lightsalmon', 'lightseagreen', 'lightskyblue',\n",
    " 'lightslategray', 'lightslategrey', 'lightsteelblue', 'lightyellow', 'linen', 'palegoldenrod', 'palegreen', 'paleturquoise', 'palevioletred', 'papayawhip',\n",
    " 'peachpuff', 'mistyrose', 'lemonchiffon', 'lightblue', 'seashell', 'white', 'blanchedalmond', 'oldlace', 'moccasin']\n",
    "colormap = [c for c in col_dict if c not in c_out]"
   ]
  },
  {
   "cell_type": "code",
   "execution_count": null,
   "metadata": {},
   "outputs": [],
   "source": [
    "# for i, c in enumerate(colormap):\n",
    "#     print(i, c)"
   ]
  },
  {
   "cell_type": "markdown",
   "metadata": {},
   "source": [
    "## Clustering CNN+AE encoded vectors\n",
    "\n",
    "### tSNE with the original classes: **selected diseases** vs **OTH**"
   ]
  },
  {
   "cell_type": "code",
   "execution_count": null,
   "metadata": {},
   "outputs": [],
   "source": [
    "##run the TSNE on data\n",
    "encoded_tsne = tsne.fit_transform(encoded_vect).tolist()"
   ]
  },
  {
   "cell_type": "code",
   "execution_count": null,
   "metadata": {},
   "outputs": [],
   "source": [
    "colors_en1 = [colormap[disease_dict[v]] for v in mrn_encoded_disease]\n",
    "single_plot(encoded_tsne, mrn_encoded_disease, colors_en1)"
   ]
  },
  {
   "cell_type": "code",
   "execution_count": null,
   "metadata": {},
   "outputs": [],
   "source": [
    "#nonoverlap_plot(encoded_tsne, mrn_encoded_disease, colors_en1)"
   ]
  },
  {
   "cell_type": "code",
   "execution_count": null,
   "metadata": {},
   "outputs": [],
   "source": [
    "##Apply hierarchical clustering to encoded data\n",
    "n_clust_en, label_en = hclust_ehr(encoded_vect, 9, 10, 'l1')"
   ]
  },
  {
   "cell_type": "markdown",
   "metadata": {},
   "source": [
    "### tSNE of the cluster found by hierarchical clusters"
   ]
  },
  {
   "cell_type": "code",
   "execution_count": null,
   "metadata": {},
   "outputs": [],
   "source": [
    "colors_en2 = [colormap[v] for v in label_en]\n",
    "single_plot(encoded_tsne, label_en, colors_en2)"
   ]
  },
  {
   "cell_type": "code",
   "execution_count": null,
   "metadata": {},
   "outputs": [],
   "source": [
    "#nonoverlap_plot(encoded_tsne, label_en, colors_en2)"
   ]
  },
  {
   "cell_type": "markdown",
   "metadata": {},
   "source": [
    "### Term frequencies inspection"
   ]
  },
  {
   "cell_type": "code",
   "execution_count": null,
   "metadata": {},
   "outputs": [],
   "source": [
    "freq_term(raw_data, n_clust_en, label_en, 1, ['icd9', 'medication'])"
   ]
  },
  {
   "cell_type": "markdown",
   "metadata": {},
   "source": [
    "## Raw count data"
   ]
  },
  {
   "cell_type": "code",
   "execution_count": null,
   "metadata": {},
   "outputs": [],
   "source": [
    "scaler = StandardScaler()\n",
    "raw_data_counts = np.zeros((len(raw_data), len_vocab))\n",
    "    \n",
    "for idx, token_list in enumerate(raw_data):\n",
    "    for t in token_list:\n",
    "        if t != 0: ##we start the vocabulary from 1\n",
    "            raw_data_counts[idx, t-1] += 1\n",
    "            \n",
    "raw_data_scaled = scaler.fit_transform(raw_data_counts)"
   ]
  },
  {
   "cell_type": "code",
   "execution_count": null,
   "metadata": {},
   "outputs": [],
   "source": [
    "# ##T-SNE\n",
    "raw_tsne = tsne.fit_transform(raw_data_scaled)"
   ]
  },
  {
   "cell_type": "code",
   "execution_count": null,
   "metadata": {},
   "outputs": [],
   "source": [
    "colors_raw1 = [colormap[disease_dict[v]] for v in mrn_raw_disease]\n",
    "single_plot(raw_tsne, mrn_raw_disease, colors_raw1)"
   ]
  },
  {
   "cell_type": "code",
   "execution_count": null,
   "metadata": {},
   "outputs": [],
   "source": [
    "#nonoverlap_plot(raw_tsne, mrn_raw_disease, colors_raw1)"
   ]
  },
  {
   "cell_type": "code",
   "execution_count": null,
   "metadata": {},
   "outputs": [],
   "source": [
    "n_clust_raw, label_raw = hclust_ehr(raw_data_scaled, 9, 10, 'cosine')"
   ]
  },
  {
   "cell_type": "code",
   "execution_count": null,
   "metadata": {},
   "outputs": [],
   "source": [
    "colors_raw2 = [colormap[v] for v in label_raw]\n",
    "single_plot(raw_tsne, label_raw, colors_raw2)"
   ]
  },
  {
   "cell_type": "code",
   "execution_count": null,
   "metadata": {},
   "outputs": [],
   "source": [
    "#nonoverlap_plot(raw_tsne, label_raw, colors_raw2)"
   ]
  },
  {
   "cell_type": "code",
   "execution_count": null,
   "metadata": {},
   "outputs": [],
   "source": [
    "freq_term(raw_data, n_clust_raw, label_raw, 1, ['icd9', 'medication'])"
   ]
  },
  {
   "cell_type": "markdown",
   "metadata": {},
   "source": [
    "## Count data"
   ]
  },
  {
   "cell_type": "code",
   "execution_count": null,
   "metadata": {},
   "outputs": [],
   "source": [
    "svd_mat = svd_tfidf(raw_data, len_vocab)"
   ]
  },
  {
   "cell_type": "code",
   "execution_count": null,
   "metadata": {},
   "outputs": [],
   "source": [
    "# ##T-SNE\n",
    "count_tsne = tsne.fit_transform(svd_mat)"
   ]
  },
  {
   "cell_type": "code",
   "execution_count": null,
   "metadata": {},
   "outputs": [],
   "source": [
    "colors_count1 = [colormap[disease_dict[v]] for v in mrn_raw_disease]\n",
    "single_plot(count_tsne, mrn_raw_disease, colors_count1)"
   ]
  },
  {
   "cell_type": "code",
   "execution_count": null,
   "metadata": {},
   "outputs": [],
   "source": [
    "#nonoverlap_plot(count_tsne, mrn_raw_disease, colors_count1)"
   ]
  },
  {
   "cell_type": "code",
   "execution_count": null,
   "metadata": {},
   "outputs": [],
   "source": [
    "n_clust_count, label_count = hclust_ehr(svd_mat, 2, 3, 'cosine')"
   ]
  },
  {
   "cell_type": "code",
   "execution_count": null,
   "metadata": {},
   "outputs": [],
   "source": [
    "colors_count2 = [colormap[v] for v in label_count]\n",
    "single_plot(count_tsne, label_count, colors_count2)"
   ]
  },
  {
   "cell_type": "code",
   "execution_count": null,
   "metadata": {},
   "outputs": [],
   "source": [
    "#nonoverlap_plot(count_tsne, label_count, colors_count2)"
   ]
  },
  {
   "cell_type": "code",
   "execution_count": null,
   "metadata": {},
   "outputs": [],
   "source": [
    "freq_term(raw_data, n_clust_count, label_count, 1, ['icd9', 'medication'])"
   ]
  },
  {
   "cell_type": "markdown",
   "metadata": {},
   "source": [
    "## Clustering LSTM encoded vectors\n",
    "\n",
    "### tSNE with the original classes: **selected diseases** vs **OTH**"
   ]
  },
  {
   "cell_type": "code",
   "execution_count": null,
   "metadata": {},
   "outputs": [],
   "source": [
    "##run the TSNE on data\n",
    "lstm_encoded_tsne = tsne.fit_transform(lstm_encoded_vect).tolist()"
   ]
  },
  {
   "cell_type": "code",
   "execution_count": null,
   "metadata": {},
   "outputs": [],
   "source": [
    "len(lstm_mrns)"
   ]
  },
  {
   "cell_type": "code",
   "execution_count": null,
   "metadata": {},
   "outputs": [],
   "source": [
    "colors_lstmen1 = [colormap[disease_dict[v]] for v in lstm_mrn_encoded_disease]\n",
    "single_plot(lstm_encoded_tsne, mrn_encoded_disease, colors_lstmen1)"
   ]
  },
  {
   "cell_type": "code",
   "execution_count": null,
   "metadata": {},
   "outputs": [],
   "source": [
    "#nonoverlap_plot(encoded_tsne, mrn_encoded_disease, colors_en1)"
   ]
  },
  {
   "cell_type": "code",
   "execution_count": null,
   "metadata": {},
   "outputs": [],
   "source": [
    "##Apply hierarchical clustering to encoded data\n",
    "n_clust_lstmen, label_lstmen = hclust_ehr(lstm_encoded_vect, 9, 10, 'l1')"
   ]
  },
  {
   "cell_type": "markdown",
   "metadata": {},
   "source": [
    "### tSNE of the cluster found by hierarchical clusters"
   ]
  },
  {
   "cell_type": "code",
   "execution_count": null,
   "metadata": {},
   "outputs": [],
   "source": [
    "colors_lstmen2 = [colormap[v] for v in label_lstmen]\n",
    "single_plot(lstm_encoded_tsne, label_lstmen, colors_lstmen2)"
   ]
  },
  {
   "cell_type": "code",
   "execution_count": null,
   "metadata": {},
   "outputs": [],
   "source": [
    "#nonoverlap_plot(encoded_tsne, label_en, colors_en2)"
   ]
  },
  {
   "cell_type": "markdown",
   "metadata": {},
   "source": [
    "### Term frequencies inspection"
   ]
  },
  {
   "cell_type": "code",
   "execution_count": null,
   "metadata": {},
   "outputs": [],
   "source": [
    "freq_term(raw_data, n_clust_lstmen, label_lstmen, 1, ['icd9', 'medication'])"
   ]
  },
  {
   "cell_type": "code",
   "execution_count": null,
   "metadata": {},
   "outputs": [],
   "source": []
  }
 ],
 "metadata": {
  "kernelspec": {
   "display_name": "Python 3",
   "language": "python",
   "name": "python3"
  },
  "language_info": {
   "codemirror_mode": {
    "name": "ipython",
    "version": 3
   },
   "file_extension": ".py",
   "mimetype": "text/x-python",
   "name": "python",
   "nbconvert_exporter": "python",
   "pygments_lexer": "ipython3",
   "version": "3.5.2"
  }
 },
 "nbformat": 4,
 "nbformat_minor": 2
}
