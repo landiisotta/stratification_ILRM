{
 "cells": [
  {
   "cell_type": "markdown",
   "metadata": {},
   "source": [
    "# Plan of action Complex Disorder stratification model\n",
    "\n",
    "**Reminder**: \n",
    "\n",
    "AMIA Informatics Summit 2019 early registration due on the __2/21/2019__: \n",
    "* Student Non-Member 595$;\n",
    "\n",
    "* Author Non-Member 1280$\n",
    "\n",
    "Presentation: Run the new model on the same Multiple Myeloma data.\n",
    "\n",
    "## Goal:\n",
    "(1) __Quantitative approach:__\n",
    "\n",
    "Focus on the methodology, find a metric to compare our method to the baselines.\n",
    "\n",
    "- KDD 2019 conference: \n",
    "\n",
    "> August 3 - 7, 2019\n",
    "Anchorage, Alaska USA.\n",
    "**Call for papers deadline**: February 3rd, 2019\n",
    "\n",
    "- SIGIR 2019 conference:\n",
    "\n",
    "> July 21-25, 2019 \n",
    "Paris, France.\n",
    "**Call for full papers**: (Abstract) Mon, Jan 21, 2019; (submission deadline) Mon, Jan 28, 2019.\n",
    "**Call for short papers**: (Abstract) Tue, Feb 12, 2019; (submission deadline) Tue, Feb 19, 2019\n",
    "\n",
    "(2) __Quantitative/Qualitative approach:__\n",
    "\n",
    "To submit to a Journal, investigate different diseases."
   ]
  },
  {
   "cell_type": "markdown",
   "metadata": {},
   "source": [
    "## (1) Quantitative approach steps\n",
    "\n",
    "Paper outline:\n",
    "\n",
    "> _Introduction_\n",
    "\n",
    "> _Related Works_\n",
    "\n",
    "> _Methods_\n",
    "\n",
    "> _Evaluation: dataset; Silhouette; Clustering; Similarity(?)_\n",
    "\n",
    "> _Disease stratification_"
   ]
  },
  {
   "cell_type": "markdown",
   "metadata": {},
   "source": [
    "For the _evaluation_ step we can try:\n",
    "\n",
    "- Similarity measure (Euclidean/Cosine) for each disorder with a table:\n",
    "\n",
    "|model_name| Disease_A | Disease_B | Disease_C |  \n",
    "| ---   | :-------: |:---------:| :--------:|   \n",
    "| Model1| x         | x         | x         |\n",
    "| Model2| x         | x         | x         |\n",
    "| ...   | ...       | ...       | ...       |\n",
    "| ModelN| x         | x         | x         |\n",
    "\n",
    "Where $x$ is the chosen metric. We can average the similarity within patients with the same disorder between the different patient representations.\n",
    "- Silhouette Index for number of clusters.\n",
    "\n",
    "For the disease stratification step:\n",
    "\n",
    "-  Consider how many patients have a specific medical term among the most frequent (relatively frequent) ones.\n",
    "- Chi-squared test of the frequencies of the one-hot encoded patient representations among unsupervised clusters. "
   ]
  },
  {
   "cell_type": "markdown",
   "metadata": {},
   "source": [
    "## To-dos\n",
    "- Try adding a second layer to the CNN;\n",
    "- Run the model on 7/8 distinct disorders + random patients. Dataset numerosity $\\sim 50,000/100,000$ subjects."
   ]
  },
  {
   "cell_type": "code",
   "execution_count": null,
   "metadata": {},
   "outputs": [],
   "source": []
  }
 ],
 "metadata": {
  "kernelspec": {
   "display_name": "Python 3",
   "language": "python",
   "name": "python3"
  },
  "language_info": {
   "codemirror_mode": {
    "name": "ipython",
    "version": 3
   },
   "file_extension": ".py",
   "mimetype": "text/x-python",
   "name": "python",
   "nbconvert_exporter": "python",
   "pygments_lexer": "ipython3",
   "version": "3.5.2"
  }
 },
 "nbformat": 4,
 "nbformat_minor": 2
}
