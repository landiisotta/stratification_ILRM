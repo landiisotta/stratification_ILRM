{
 "cells": [
  {
   "cell_type": "code",
   "execution_count": 47,
   "metadata": {},
   "outputs": [],
   "source": [
    "import numpy as np\n",
    "\n",
    "disease_vect = ['dis1', 'dis1', 'dis2', 'dis3']\n",
    "clust = [0,1,0,2]\n",
    "\n",
    "dis_dict = {}\n",
    "for idx, d in enumerate(set(disease_vect)):\n",
    "    dis_dict[d] = idx\n",
    "labels = [dis_dict[d] for d in disease_vect]\n",
    "count_clust = [0] * len(set(clust))\n",
    "for c in clust:\n",
    "    count_clust[c] += 1\n",
    "\n",
    "class_clust = []\n",
    "for _ in range(len(set(labels))):\n",
    "    class_clust.append([0 for _ in range(len(set(clust)))])\n",
    "for idx, l in enumerate(labels):\n",
    "    c = clust[idx]\n",
    "    class_clust[l][c] += 1\n",
    "\n",
    "e = 0\n",
    "for j in range(0, max(clust)+1):\n",
    "    ej = 0\n",
    "    for i in range(0, max(labels)+1):\n",
    "        pij = class_clust[i][j]/count_clust[j]\n",
    "        if pij != 0:\n",
    "            ej += -(pij * np.log2(pij)) \n",
    "            print(ej)\n",
    "    print(count_clust[j])\n",
    "    e += count_clust[j]/len(labels) * ej\n",
    "print(e)"
   ]
  },
  {
   "cell_type": "code",
   "execution_count": null,
   "metadata": {},
   "outputs": [],
   "source": []
  }
 ],
 "metadata": {
  "kernelspec": {
   "display_name": "Python 3",
   "language": "python",
   "name": "python3"
  },
  "language_info": {
   "codemirror_mode": {
    "name": "ipython",
    "version": 3
   },
   "file_extension": ".py",
   "mimetype": "text/x-python",
   "name": "python",
   "nbconvert_exporter": "python",
   "pygments_lexer": "ipython3",
   "version": "3.5.2"
  }
 },
 "nbformat": 4,
 "nbformat_minor": 2
}
