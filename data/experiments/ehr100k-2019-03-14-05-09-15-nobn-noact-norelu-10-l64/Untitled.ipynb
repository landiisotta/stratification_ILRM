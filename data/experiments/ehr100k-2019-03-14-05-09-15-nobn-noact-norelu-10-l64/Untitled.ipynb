{
 "cells": [
  {
   "cell_type": "code",
   "execution_count": 15,
   "metadata": {},
   "outputs": [],
   "source": [
    "import torch\n",
    "import model.net as net"
   ]
  },
  {
   "cell_type": "code",
   "execution_count": 16,
   "metadata": {},
   "outputs": [],
   "source": [
    "model = torch.load('best_model.pt')"
   ]
  },
  {
   "cell_type": "code",
   "execution_count": 17,
   "metadata": {},
   "outputs": [
    {
     "data": {
      "text/plain": [
       "<bound method Module.parameters of ehrEncoding(\n",
       "  (embedding): Embedding(30018, 100, padding_idx=0)\n",
       "  (cnn_l1): Conv1d(100, 50, kernel_size=(5,), stride=(1,), padding=(2,))\n",
       "  (bn1): BatchNorm1d(50, eps=1e-05, momentum=0.1, affine=True, track_running_stats=True)\n",
       "  (linear1): Linear(in_features=3200, out_features=200, bias=True)\n",
       "  (linear2): Linear(in_features=200, out_features=100, bias=True)\n",
       "  (linear3): Linear(in_features=100, out_features=200, bias=True)\n",
       "  (linear4): Linear(in_features=200, out_features=1921088, bias=True)\n",
       "  (sigm): Sigmoid()\n",
       "  (softplus): Softplus(beta=1, threshold=20)\n",
       ")>"
      ]
     },
     "execution_count": 17,
     "metadata": {},
     "output_type": "execute_result"
    }
   ],
   "source": [
    "model.parameters"
   ]
  },
  {
   "cell_type": "code",
   "execution_count": 18,
   "metadata": {},
   "outputs": [
    {
     "name": "stdout",
     "output_type": "stream",
     "text": [
      "ehrEncoding(\n",
      "  (embedding): Embedding(30018, 100, padding_idx=0)\n",
      "  (cnn_l1): Conv1d(100, 50, kernel_size=(5,), stride=(1,), padding=(2,))\n",
      "  (bn1): BatchNorm1d(50, eps=1e-05, momentum=0.1, affine=True, track_running_stats=True)\n",
      "  (linear1): Linear(in_features=3200, out_features=200, bias=True)\n",
      "  (linear2): Linear(in_features=200, out_features=100, bias=True)\n",
      "  (linear3): Linear(in_features=100, out_features=200, bias=True)\n",
      "  (linear4): Linear(in_features=200, out_features=1921088, bias=True)\n",
      "  (sigm): Sigmoid()\n",
      "  (softplus): Softplus(beta=1, threshold=20)\n",
      ")\n"
     ]
    }
   ],
   "source": [
    "print(model)"
   ]
  },
  {
   "cell_type": "code",
   "execution_count": 19,
   "metadata": {},
   "outputs": [
    {
     "data": {
      "text/plain": [
       "<bound method ehrEncoding.forward of ehrEncoding(\n",
       "  (embedding): Embedding(30018, 100, padding_idx=0)\n",
       "  (cnn_l1): Conv1d(100, 50, kernel_size=(5,), stride=(1,), padding=(2,))\n",
       "  (bn1): BatchNorm1d(50, eps=1e-05, momentum=0.1, affine=True, track_running_stats=True)\n",
       "  (linear1): Linear(in_features=3200, out_features=200, bias=True)\n",
       "  (linear2): Linear(in_features=200, out_features=100, bias=True)\n",
       "  (linear3): Linear(in_features=100, out_features=200, bias=True)\n",
       "  (linear4): Linear(in_features=200, out_features=1921088, bias=True)\n",
       "  (sigm): Sigmoid()\n",
       "  (softplus): Softplus(beta=1, threshold=20)\n",
       ")>"
      ]
     },
     "execution_count": 19,
     "metadata": {},
     "output_type": "execute_result"
    }
   ],
   "source": [
    "model.forward"
   ]
  },
  {
   "cell_type": "code",
   "execution_count": 20,
   "metadata": {},
   "outputs": [
    {
     "data": {
      "text/plain": [
       "ehrEncoding(\n",
       "  (embedding): Embedding(30018, 100, padding_idx=0)\n",
       "  (cnn_l1): Conv1d(100, 50, kernel_size=(5,), stride=(1,), padding=(2,))\n",
       "  (bn1): BatchNorm1d(50, eps=1e-05, momentum=0.1, affine=True, track_running_stats=True)\n",
       "  (linear1): Linear(in_features=3200, out_features=200, bias=True)\n",
       "  (linear2): Linear(in_features=200, out_features=100, bias=True)\n",
       "  (linear3): Linear(in_features=100, out_features=200, bias=True)\n",
       "  (linear4): Linear(in_features=200, out_features=1921088, bias=True)\n",
       "  (sigm): Sigmoid()\n",
       "  (softplus): Softplus(beta=1, threshold=20)\n",
       ")"
      ]
     },
     "execution_count": 20,
     "metadata": {},
     "output_type": "execute_result"
    }
   ],
   "source": [
    "model.eval()"
   ]
  },
  {
   "cell_type": "code",
   "execution_count": null,
   "metadata": {},
   "outputs": [],
   "source": []
  }
 ],
 "metadata": {
  "kernelspec": {
   "display_name": "Python 3",
   "language": "python",
   "name": "python3"
  },
  "language_info": {
   "codemirror_mode": {
    "name": "ipython",
    "version": 3
   },
   "file_extension": ".py",
   "mimetype": "text/x-python",
   "name": "python",
   "nbconvert_exporter": "python",
   "pygments_lexer": "ipython3",
   "version": "3.5.2"
  }
 },
 "nbformat": 4,
 "nbformat_minor": 2
}
