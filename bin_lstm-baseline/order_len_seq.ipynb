{
 "cells": [
  {
   "cell_type": "code",
   "execution_count": 1,
   "metadata": {},
   "outputs": [],
   "source": [
    "import csv\n",
    "import os"
   ]
  },
  {
   "cell_type": "code",
   "execution_count": 2,
   "metadata": {},
   "outputs": [],
   "source": [
    "date_time_folder = \"2018-10-23-17-35-48\"\n",
    "data_folder = os.path.expanduser(\"~/data1/complex_disorders/data/autism/cohorts/\")"
   ]
  },
  {
   "cell_type": "code",
   "execution_count": 3,
   "metadata": {},
   "outputs": [],
   "source": [
    "with open(data_folder + date_time_folder + \"/ordered_mrns.csv\") as f:\n",
    "    rd = csv.reader(f)\n",
    "    ordered_mrns = []\n",
    "    for r in rd:\n",
    "        ordered_mrns += r\n",
    "        \n",
    "with open(data_folder + date_time_folder + \"/trimmed_ehrs.csv\") as f:\n",
    "    rd = csv.reader(f)\n",
    "    trimmed_ehrs = {}\n",
    "    for idx, r in enumerate(rd):\n",
    "        trimmed_ehrs[ordered_mrns[idx]] = list(map(int, r))"
   ]
  },
  {
   "cell_type": "code",
   "execution_count": 4,
   "metadata": {},
   "outputs": [],
   "source": [
    "trimmed_mrns = sorted(trimmed_ehrs, key=lambda x: len(list(filter(lambda y: y>0, trimmed_ehrs[x]))) , reverse=True)\n",
    "ordered_trimmed = [trimmed_ehrs[mrn] for mrn in trimmed_mrns]"
   ]
  },
  {
   "cell_type": "code",
   "execution_count": 5,
   "metadata": {},
   "outputs": [],
   "source": [
    "with open(os.path.join(data_folder + date_time_folder, 'LSTMtrimmed_ehrs.csv'), 'w') as f:\n",
    "    wr = csv.writer(f, delimiter=',')\n",
    "    for w in ordered_trimmed:\n",
    "        wr.writerow(w)\n",
    "\n",
    "with open(os.path.join(data_folder + date_time_folder, 'LSTMordered_mrns.csv'), 'w') as f:\n",
    "    wr = csv.writer(f, delimiter=',')\n",
    "    for w in trimmed_mrns:\n",
    "        wr.writerow([w])"
   ]
  },
  {
   "cell_type": "code",
   "execution_count": null,
   "metadata": {},
   "outputs": [],
   "source": []
  }
 ],
 "metadata": {
  "kernelspec": {
   "display_name": "Python 3",
   "language": "python",
   "name": "python3"
  },
  "language_info": {
   "codemirror_mode": {
    "name": "ipython",
    "version": 3
   },
   "file_extension": ".py",
   "mimetype": "text/x-python",
   "name": "python",
   "nbconvert_exporter": "python",
   "pygments_lexer": "ipython3",
   "version": "3.5.2"
  }
 },
 "nbformat": 4,
 "nbformat_minor": 2
}
